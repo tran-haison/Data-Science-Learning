{
 "cells": [
  {
   "cell_type": "code",
   "execution_count": 40,
   "id": "50163a0a",
   "metadata": {},
   "outputs": [],
   "source": [
    "# Import re module, which is python stores regular expression libraries\n",
    "import re"
   ]
  },
  {
   "cell_type": "code",
   "execution_count": 41,
   "id": "495ece1e",
   "metadata": {},
   "outputs": [
    {
     "name": "stdout",
     "output_type": "stream",
     "text": [
      "Wonderful!\n"
     ]
    }
   ],
   "source": [
    "# Example\n",
    "text = \"This is a good day\"\n",
    "\n",
    "# Search for \"good\" in text\n",
    "if re.search(\"good\", text):\n",
    "    print(\"Wonderful!\")\n",
    "else:\n",
    "    print(\":<\")"
   ]
  },
  {
   "cell_type": "code",
   "execution_count": 42,
   "id": "80c0d18f",
   "metadata": {},
   "outputs": [
    {
     "data": {
      "text/plain": [
       "['',\n",
       " ' works diligently. ',\n",
       " ' gets good grades. Our student ',\n",
       " ' is successful.']"
      ]
     },
     "execution_count": 42,
     "metadata": {},
     "output_type": "execute_result"
    }
   ],
   "source": [
    "# Example 2\n",
    "text = \"Amy works diligently. Amy gets good grades. Our student Amy is successful.\"\n",
    "\n",
    "# Split the text by \"Amy\" and get a list of substrings\n",
    "re.split(\"Amy\", text)"
   ]
  },
  {
   "cell_type": "code",
   "execution_count": 43,
   "id": "1754de62",
   "metadata": {},
   "outputs": [
    {
     "data": {
      "text/plain": [
       "['Amy', 'Amy', 'Amy']"
      ]
     },
     "execution_count": 43,
     "metadata": {},
     "output_type": "execute_result"
    }
   ],
   "source": [
    "# Find all \"Amy\" in text\n",
    "re.findall(\"Amy\", text)"
   ]
  },
  {
   "cell_type": "code",
   "execution_count": 44,
   "id": "61221b75",
   "metadata": {},
   "outputs": [
    {
     "data": {
      "text/plain": [
       "<re.Match object; span=(0, 3), match='Amy'>"
      ]
     },
     "execution_count": 44,
     "metadata": {},
     "output_type": "execute_result"
    }
   ],
   "source": [
    "# Example 3\n",
    "text = \"Amy works diligently. Amy gets good grades. Our student Amy is successful.\"\n",
    "\n",
    "# Use \"^\" for specifying the start of the pattern in text\n",
    "# Use \"$\" for specifying the end of the pattern in text\n",
    "re.search(\"^Amy\", text)"
   ]
  },
  {
   "cell_type": "markdown",
   "id": "218823f8",
   "metadata": {},
   "source": [
    "# Patterns and Character Classes"
   ]
  },
  {
   "cell_type": "code",
   "execution_count": 45,
   "id": "437f3e68",
   "metadata": {},
   "outputs": [
    {
     "data": {
      "text/plain": [
       "['B', 'B', 'B']"
      ]
     },
     "execution_count": 45,
     "metadata": {},
     "output_type": "execute_result"
    }
   ],
   "source": [
    "# Example 4\n",
    "grades = \"ACAAAABCBCBAA\"\n",
    "\n",
    "# Get list of \"B\" in grades\n",
    "re.findall(\"B\", grades)"
   ]
  },
  {
   "cell_type": "code",
   "execution_count": 46,
   "id": "1812358e",
   "metadata": {},
   "outputs": [
    {
     "data": {
      "text/plain": [
       "['A', 'A', 'A', 'A', 'A', 'B', 'B', 'B', 'A', 'A']"
      ]
     },
     "execution_count": 46,
     "metadata": {},
     "output_type": "execute_result"
    }
   ],
   "source": [
    "# Get list of \"A\" + \"B\" in grades\n",
    "# Use []\n",
    "re.findall(\"[AB]\", grades)"
   ]
  },
  {
   "cell_type": "code",
   "execution_count": 47,
   "id": "55efb68c",
   "metadata": {},
   "outputs": [
    {
     "name": "stdout",
     "output_type": "stream",
     "text": [
      "['AC', 'AB']\n",
      "['AC', 'AB']\n"
     ]
    }
   ],
   "source": [
    "# Get list of \"A\" followed by \"B\" or \"C\"\n",
    "print(re.findall(\"[A][B-C]\", grades))\n",
    "\n",
    "# Another way is \n",
    "print(re.findall(\"AB|AC\", grades))"
   ]
  },
  {
   "cell_type": "code",
   "execution_count": 48,
   "id": "5eb26d4d",
   "metadata": {},
   "outputs": [
    {
     "data": {
      "text/plain": [
       "['C', 'B', 'C', 'B', 'C', 'B']"
      ]
     },
     "execution_count": 48,
     "metadata": {},
     "output_type": "execute_result"
    }
   ],
   "source": [
    "# Get list of not \"A\"\n",
    "re.findall(\"[^A]\", grades)"
   ]
  },
  {
   "cell_type": "code",
   "execution_count": 49,
   "id": "23e13d76",
   "metadata": {},
   "outputs": [
    {
     "data": {
      "text/plain": [
       "[]"
      ]
     },
     "execution_count": 49,
     "metadata": {},
     "output_type": "execute_result"
    }
   ],
   "source": [
    "# If \"^\" is used inside [] -> specify NOT operator\n",
    "# If \"^\" is used outside [] -> specify the pattern must start with the given string -> can be TRUE or FALSE\n",
    "# Get value if there exists character != \"A\" at the beginning of the text\n",
    "re.findall(\"^[^A]\", grades)"
   ]
  },
  {
   "cell_type": "markdown",
   "id": "b0e1d21f",
   "metadata": {},
   "source": [
    "# Quantifiers"
   ]
  },
  {
   "cell_type": "code",
   "execution_count": 50,
   "id": "e85a818f",
   "metadata": {},
   "outputs": [],
   "source": [
    "# Quantifiers are the number of times a pattern is matched\n",
    "# The most basic quantifier is expressed as e{m, n}\n",
    "# e: expression or character to be matched\n",
    "# m: minimum number of times\n",
    "# n: maximum number of times"
   ]
  },
  {
   "cell_type": "code",
   "execution_count": 51,
   "id": "94cdc1fa",
   "metadata": {},
   "outputs": [
    {
     "data": {
      "text/plain": [
       "['AAAA', 'AA']"
      ]
     },
     "execution_count": 51,
     "metadata": {},
     "output_type": "execute_result"
    }
   ],
   "source": [
    "# Find all combinations of 2 A's up to 10 A's in a row\n",
    "# NOTE: cannot put space in between braces\n",
    "re.findall(\"A{2,10}\", grades)"
   ]
  },
  {
   "cell_type": "code",
   "execution_count": 52,
   "id": "a220a2f5",
   "metadata": {},
   "outputs": [
    {
     "data": {
      "text/plain": [
       "['AA', 'AA', 'AA']"
      ]
     },
     "execution_count": 52,
     "metadata": {},
     "output_type": "execute_result"
    }
   ],
   "source": [
    "# Find combinations of 2 A's back to back\n",
    "re.findall(\"A{1,1}A{1,1}\", grades)"
   ]
  },
  {
   "cell_type": "code",
   "execution_count": 53,
   "id": "ab9f22d6",
   "metadata": {},
   "outputs": [
    {
     "data": {
      "text/plain": [
       "['AA', 'AA', 'AA']"
      ]
     },
     "execution_count": 53,
     "metadata": {},
     "output_type": "execute_result"
    }
   ],
   "source": [
    "# Another way\n",
    "re.findall(\"AA\", grades)"
   ]
  },
  {
   "cell_type": "code",
   "execution_count": 54,
   "id": "992f9ec3",
   "metadata": {},
   "outputs": [
    {
     "data": {
      "text/plain": [
       "['AA', 'AA', 'AA']"
      ]
     },
     "execution_count": 54,
     "metadata": {},
     "output_type": "execute_result"
    }
   ],
   "source": [
    "# Define m = n by using only 1 number in the braces\n",
    "re.findall(\"A{2}\", grades)"
   ]
  },
  {
   "cell_type": "code",
   "execution_count": 55,
   "id": "16cb3915",
   "metadata": {},
   "outputs": [
    {
     "data": {
      "text/plain": [
       "['AAAABC']"
      ]
     },
     "execution_count": 55,
     "metadata": {},
     "output_type": "execute_result"
    }
   ],
   "source": [
    "# Find a decreasing trend in a student's grades\n",
    "re.findall(\"A{1,10}B{1,10}C{1,10}\", grades)"
   ]
  },
  {
   "cell_type": "code",
   "execution_count": 56,
   "id": "244e8985",
   "metadata": {},
   "outputs": [],
   "source": [
    "# Example\n",
    "# Open text file and read the file in a variable wiki\n",
    "with open(\"ferpa.txt\", \"r\") as file:\n",
    "    wiki = file.read()"
   ]
  },
  {
   "cell_type": "code",
   "execution_count": 57,
   "id": "6a0a0fc1",
   "metadata": {},
   "outputs": [
    {
     "data": {
      "text/plain": [
       "['Overview[edit]', 'records[edit]', 'records[edit]']"
      ]
     },
     "execution_count": 57,
     "metadata": {},
     "output_type": "execute_result"
    }
   ],
   "source": [
    "# Get a list of headers\n",
    "# just the last word of the headers\n",
    "re.findall(\"[a-zA-Z]{1,100}\\[edit\\]\", wiki)"
   ]
  },
  {
   "cell_type": "code",
   "execution_count": 58,
   "id": "dd60055f",
   "metadata": {},
   "outputs": [
    {
     "data": {
      "text/plain": [
       "['Overview[edit]', 'records[edit]', 'records[edit]']"
      ]
     },
     "execution_count": 58,
     "metadata": {},
     "output_type": "execute_result"
    }
   ],
   "source": [
    "# Use \\w to match any letter, including digits and numbers\n",
    "re.findall(\"[\\w]{1,100}\\[edit\\]\", wiki)"
   ]
  },
  {
   "cell_type": "code",
   "execution_count": 59,
   "id": "27dfde26",
   "metadata": {},
   "outputs": [
    {
     "data": {
      "text/plain": [
       "['Overview[edit]', 'records[edit]', 'records[edit]']"
      ]
     },
     "execution_count": 59,
     "metadata": {},
     "output_type": "execute_result"
    }
   ],
   "source": [
    "# \\s matches any whitespace character.\n",
    "# * matches 0 or more times (reduce the {} )\n",
    "re.findall(\"[\\w]*\\[edit\\]\", wiki)"
   ]
  },
  {
   "cell_type": "code",
   "execution_count": 60,
   "id": "b7a075be",
   "metadata": {},
   "outputs": [
    {
     "data": {
      "text/plain": [
       "['Overview[edit]',\n",
       " 'Access to public records[edit]',\n",
       " 'Student medical records[edit]']"
      ]
     },
     "execution_count": 60,
     "metadata": {},
     "output_type": "execute_result"
    }
   ],
   "source": [
    "# Add in a spaces using the space character\n",
    "re.findall(\"[\\w ]*\\[edit\\]\", wiki)"
   ]
  },
  {
   "cell_type": "code",
   "execution_count": 61,
   "id": "3759e9e2",
   "metadata": {},
   "outputs": [
    {
     "name": "stdout",
     "output_type": "stream",
     "text": [
      "Overview\n",
      "Access to public records\n",
      "Student medical records\n"
     ]
    }
   ],
   "source": [
    "# Iterating through list of titles\n",
    "for title in re.findall(\"[\\w ]*\\[edit\\]\", wiki):\n",
    "    # Split to take the first result and get rid of [edit]\n",
    "    print(re.split(\"\\[\", title)[0])"
   ]
  },
  {
   "cell_type": "markdown",
   "id": "59e5c10d",
   "metadata": {},
   "source": [
    "# Groups"
   ]
  },
  {
   "cell_type": "code",
   "execution_count": 62,
   "id": "79538ad8",
   "metadata": {},
   "outputs": [
    {
     "data": {
      "text/plain": [
       "[('Overview', '[edit]'),\n",
       " ('Access to public records', '[edit]'),\n",
       " ('Student medical records', '[edit]')]"
      ]
     },
     "execution_count": 62,
     "metadata": {},
     "output_type": "execute_result"
    }
   ],
   "source": [
    "# Match with different patterns, called GROUPS\n",
    "# Using ()\n",
    "# Example\n",
    "re.findall(\"([\\w ]*)(\\[edit\\])\", wiki)"
   ]
  },
  {
   "cell_type": "code",
   "execution_count": 63,
   "id": "5f26815b",
   "metadata": {},
   "outputs": [
    {
     "name": "stdout",
     "output_type": "stream",
     "text": [
      "('Overview', '[edit]')\n",
      "('Access to public records', '[edit]')\n",
      "('Student medical records', '[edit]')\n"
     ]
    }
   ],
   "source": [
    "# Get a list of Match objects using finditer()\n",
    "for item in re.finditer(\"([\\w ]*)(\\[edit\\])\", wiki):\n",
    "    print(item.groups())"
   ]
  },
  {
   "cell_type": "code",
   "execution_count": 64,
   "id": "6de08c11",
   "metadata": {},
   "outputs": [
    {
     "name": "stdout",
     "output_type": "stream",
     "text": [
      "Overview\n",
      "Access to public records\n",
      "Student medical records\n"
     ]
    }
   ],
   "source": [
    "# Get an individual group using group(number)\n",
    "# group(0) is the whole match, other number is the portion of the match\n",
    "for item in re.finditer(\"([\\w ]*)(\\[edit\\])\", wiki):\n",
    "    print(item.group(1))"
   ]
  },
  {
   "cell_type": "code",
   "execution_count": 65,
   "id": "60529176",
   "metadata": {},
   "outputs": [
    {
     "name": "stdout",
     "output_type": "stream",
     "text": [
      "Overview\n",
      "Access to public records\n",
      "Student medical records\n"
     ]
    }
   ],
   "source": [
    "# Naming groups\n",
    "# Syntax (?P<name>)\n",
    "# ?P indicates that this is an extension to basic regexes\n",
    "# <name> is the dictionary key\n",
    "for item in re.finditer(\"(?P<title>[\\w ]*)(?P<edit_link>\\[edit\\])\", wiki):\n",
    "    print(item.groupdict()[\"title\"])"
   ]
  },
  {
   "cell_type": "code",
   "execution_count": 66,
   "id": "b138d43d",
   "metadata": {},
   "outputs": [
    {
     "name": "stdout",
     "output_type": "stream",
     "text": [
      "{'title': 'Student medical records', 'edit_link': '[edit]'}\n"
     ]
    }
   ],
   "source": [
    "# Get whole dictionary\n",
    "print(item.groupdict())"
   ]
  },
  {
   "cell_type": "code",
   "execution_count": 67,
   "id": "6e6eb5ab",
   "metadata": {},
   "outputs": [],
   "source": [
    "# []: match individual character patterns\n",
    "# (): match groups\n",
    "# *: zero or more times\n",
    "# +: 1 or more times\n",
    "# ?P: indicate extension\n",
    "# m{n}: n times show up for a character m in a row\n",
    "# \\w: word character\n",
    "# \\d: digit character\n",
    "# \\s: whitespace character"
   ]
  },
  {
   "cell_type": "markdown",
   "id": "77d93efb",
   "metadata": {},
   "source": [
    "# Look-ahead and Look-behind"
   ]
  },
  {
   "cell_type": "code",
   "execution_count": 68,
   "id": "b7242711",
   "metadata": {},
   "outputs": [
    {
     "name": "stdout",
     "output_type": "stream",
     "text": [
      "<re.Match object; span=(0, 8), match='Overview'>\n",
      "<re.Match object; span=(2715, 2739), match='Access to public records'>\n",
      "<re.Match object; span=(3692, 3715), match='Student medical records'>\n"
     ]
    }
   ],
   "source": [
    "# Use [edit] to match but don't want to capture it in the result\n",
    "# Use ?=\n",
    "for item in re.finditer(\"(?P<title>[\\w ]+)(?=\\[edit\\])\", wiki):\n",
    "    print(item)"
   ]
  },
  {
   "cell_type": "markdown",
   "id": "7b6cd3eb",
   "metadata": {},
   "source": [
    "# Example: Wikipedia Data"
   ]
  },
  {
   "cell_type": "code",
   "execution_count": 69,
   "id": "65de64cb",
   "metadata": {},
   "outputs": [],
   "source": [
    "with open(\"buddhist.txt\", \"r\") as file:\n",
    "    wiki = file.read()"
   ]
  },
  {
   "cell_type": "code",
   "execution_count": 73,
   "id": "bc90f1fe",
   "metadata": {},
   "outputs": [],
   "source": [
    "# Multi-line regexes\n",
    "pattern = \"\"\"\n",
    "(?P<title>.*)\n",
    "(-\\ located\\ in\\ )\n",
    "(?P<city>\\w*)\n",
    "(,\\ )\n",
    "(?P<state>\\w*)\"\"\"\n",
    "\n",
    "# Call finditer()\n",
    "for item in re.finditer(pattern, wiki, re.VERBOSE):\n",
    "    print(item.groupdict())"
   ]
  },
  {
   "cell_type": "code",
   "execution_count": null,
   "id": "4ff3cc2b",
   "metadata": {},
   "outputs": [],
   "source": []
  }
 ],
 "metadata": {
  "kernelspec": {
   "display_name": "Python 3",
   "language": "python",
   "name": "python3"
  },
  "language_info": {
   "codemirror_mode": {
    "name": "ipython",
    "version": 3
   },
   "file_extension": ".py",
   "mimetype": "text/x-python",
   "name": "python",
   "nbconvert_exporter": "python",
   "pygments_lexer": "ipython3",
   "version": "3.8.10"
  }
 },
 "nbformat": 4,
 "nbformat_minor": 5
}
