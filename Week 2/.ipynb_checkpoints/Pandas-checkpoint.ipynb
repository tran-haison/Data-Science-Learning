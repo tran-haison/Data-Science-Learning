{
 "cells": [
  {
   "cell_type": "code",
   "execution_count": 1,
   "id": "286e18a8",
   "metadata": {},
   "outputs": [],
   "source": [
    "# import pandas lib\n",
    "import pandas as pd\n",
    "\n",
    "# import numpy\n",
    "import numpy as np"
   ]
  },
  {
   "cell_type": "code",
   "execution_count": 2,
   "id": "cab61396",
   "metadata": {},
   "outputs": [
    {
     "data": {
      "text/plain": [
       "0     Son\n",
       "1     Hai\n",
       "2    Tran\n",
       "dtype: object"
      ]
     },
     "execution_count": 2,
     "metadata": {},
     "output_type": "execute_result"
    }
   ],
   "source": [
    "# List of students\n",
    "students = [\"Son\", \"Hai\", \"Tran\"]\n",
    "\n",
    "# Create a Series by pandas\n",
    "pd.Series(students)"
   ]
  },
  {
   "cell_type": "code",
   "execution_count": 3,
   "id": "be0b2587",
   "metadata": {},
   "outputs": [
    {
     "data": {
      "text/plain": [
       "0    1\n",
       "1    2\n",
       "2    3\n",
       "dtype: int64"
      ]
     },
     "execution_count": 3,
     "metadata": {},
     "output_type": "execute_result"
    }
   ],
   "source": [
    "# List of numbers\n",
    "numbers = [1, 2, 3]\n",
    "\n",
    "# Turn into Series\n",
    "pd.Series(numbers)"
   ]
  },
  {
   "cell_type": "code",
   "execution_count": 4,
   "id": "e8841d05",
   "metadata": {},
   "outputs": [
    {
     "data": {
      "text/plain": [
       "0    Tran\n",
       "1     Hai\n",
       "2    None\n",
       "dtype: object"
      ]
     },
     "execution_count": 4,
     "metadata": {},
     "output_type": "execute_result"
    }
   ],
   "source": [
    "# List of students with None value\n",
    "students = [\"Tran\", \"Hai\", None]\n",
    "pd.Series(students)"
   ]
  },
  {
   "cell_type": "code",
   "execution_count": 5,
   "id": "c66313ab",
   "metadata": {},
   "outputs": [
    {
     "data": {
      "text/plain": [
       "0    1.0\n",
       "1    2.0\n",
       "2    NaN\n",
       "dtype: float64"
      ]
     },
     "execution_count": 5,
     "metadata": {},
     "output_type": "execute_result"
    }
   ],
   "source": [
    "# Create a list of numbers with None value\n",
    "numbers = [1, 2, None]\n",
    "pd.Series(numbers)"
   ]
  },
  {
   "cell_type": "code",
   "execution_count": 6,
   "id": "fd23cb23",
   "metadata": {},
   "outputs": [
    {
     "data": {
      "text/plain": [
       "False"
      ]
     },
     "execution_count": 6,
     "metadata": {},
     "output_type": "execute_result"
    }
   ],
   "source": [
    "# NaN and None are DIFFERENT in value but SAME meaning\n",
    "\n",
    "# Compare NaN vs None\n",
    "np.nan == None"
   ]
  },
  {
   "cell_type": "code",
   "execution_count": 7,
   "id": "0435e826",
   "metadata": {},
   "outputs": [
    {
     "data": {
      "text/plain": [
       "False"
      ]
     },
     "execution_count": 7,
     "metadata": {},
     "output_type": "execute_result"
    }
   ],
   "source": [
    "# Compare NaN with another NaN\n",
    "np.nan == np.nan"
   ]
  },
  {
   "cell_type": "code",
   "execution_count": 8,
   "id": "8587548d",
   "metadata": {},
   "outputs": [
    {
     "data": {
      "text/plain": [
       "True"
      ]
     },
     "execution_count": 8,
     "metadata": {},
     "output_type": "execute_result"
    }
   ],
   "source": [
    "# Compare using specific function in Numpy\n",
    "np.isnan(np.nan)"
   ]
  },
  {
   "cell_type": "code",
   "execution_count": 9,
   "id": "5b8f9b19",
   "metadata": {},
   "outputs": [
    {
     "data": {
      "text/plain": [
       "Alice      Physics\n",
       "Jack     Chemistry\n",
       "Molly      English\n",
       "dtype: object"
      ]
     },
     "execution_count": 9,
     "metadata": {},
     "output_type": "execute_result"
    }
   ],
   "source": [
    "# Using Series with DICTIONARY\n",
    "studentsScores = {\"Alice\": \"Physics\",\n",
    "                  \"Jack\": \"Chemistry\",\n",
    "                  \"Molly\": \"English\"}\n",
    "s = pd.Series(studentsScores)\n",
    "s"
   ]
  },
  {
   "cell_type": "code",
   "execution_count": 10,
   "id": "c964df2d",
   "metadata": {},
   "outputs": [
    {
     "data": {
      "text/plain": [
       "Index(['Alice', 'Jack', 'Molly'], dtype='object')"
      ]
     },
     "execution_count": 10,
     "metadata": {},
     "output_type": "execute_result"
    }
   ],
   "source": [
    "# Get the index object using index attribute\n",
    "s.index"
   ]
  },
  {
   "cell_type": "code",
   "execution_count": 11,
   "id": "8f271763",
   "metadata": {},
   "outputs": [
    {
     "data": {
      "text/plain": [
       "0    (A, B)\n",
       "1    (C, D)\n",
       "2    (E, F)\n",
       "dtype: object"
      ]
     },
     "execution_count": 11,
     "metadata": {},
     "output_type": "execute_result"
    }
   ],
   "source": [
    "# Create a list of tuples\n",
    "students = [(\"A\", \"B\"), (\"C\", \"D\"), (\"E\", \"F\")]\n",
    "pd.Series(students)"
   ]
  },
  {
   "cell_type": "code",
   "execution_count": 12,
   "id": "97f0c348",
   "metadata": {},
   "outputs": [
    {
     "data": {
      "text/plain": [
       "Son       Physics\n",
       "Cheems       Math\n",
       "dtype: object"
      ]
     },
     "execution_count": 12,
     "metadata": {},
     "output_type": "execute_result"
    }
   ],
   "source": [
    "# Another way to create separate list of objects with list of index\n",
    "s = pd.Series([\"Physics\", \"Math\"], index = [\"Son\", \"Cheems\"])\n",
    "s"
   ]
  },
  {
   "cell_type": "code",
   "execution_count": 13,
   "id": "071c8bf9",
   "metadata": {},
   "outputs": [
    {
     "data": {
      "text/plain": [
       "Alice    Physics\n",
       "Molly    English\n",
       "Sam          NaN\n",
       "dtype: object"
      ]
     },
     "execution_count": 13,
     "metadata": {},
     "output_type": "execute_result"
    }
   ],
   "source": [
    "# Override value of dictionary\n",
    "studentsScores = {\"Alice\": \"Physics\",\n",
    "                  \"Jack\": \"Chemistry\",\n",
    "                  \"Molly\": \"English\"}\n",
    "s = pd.Series(studentsScores, index = [\"Alice\", \"Molly\", \"Sam\"])\n",
    "s"
   ]
  },
  {
   "cell_type": "markdown",
   "id": "619d5d14",
   "metadata": {},
   "source": [
    "# Querying a Series"
   ]
  },
  {
   "cell_type": "code",
   "execution_count": 14,
   "id": "9ca5651f",
   "metadata": {},
   "outputs": [
    {
     "data": {
      "text/plain": [
       "Alice      Physics\n",
       "Jack     Chemistry\n",
       "Molly      English\n",
       "Sam        History\n",
       "dtype: object"
      ]
     },
     "execution_count": 14,
     "metadata": {},
     "output_type": "execute_result"
    }
   ],
   "source": [
    "studentsClasses = {\n",
    "    \"Alice\": \"Physics\",\n",
    "    \"Jack\": \"Chemistry\",\n",
    "    \"Molly\": \"English\",\n",
    "    \"Sam\": \"History\"\n",
    "}\n",
    "s = pd.Series(studentsClasses)\n",
    "s"
   ]
  },
  {
   "cell_type": "code",
   "execution_count": 16,
   "id": "66d9f282",
   "metadata": {},
   "outputs": [
    {
     "data": {
      "text/plain": [
       "'History'"
      ]
     },
     "execution_count": 16,
     "metadata": {},
     "output_type": "execute_result"
    }
   ],
   "source": [
    "# Query series by using index position\n",
    "s.iloc[3]"
   ]
  },
  {
   "cell_type": "code",
   "execution_count": 17,
   "id": "5e655caf",
   "metadata": {},
   "outputs": [
    {
     "data": {
      "text/plain": [
       "'English'"
      ]
     },
     "execution_count": 17,
     "metadata": {},
     "output_type": "execute_result"
    }
   ],
   "source": [
    "# Query series by using index label\n",
    "s.loc[\"Molly\"]"
   ]
  },
  {
   "cell_type": "code",
   "execution_count": 18,
   "id": "90409d75",
   "metadata": {},
   "outputs": [
    {
     "name": "stdout",
     "output_type": "stream",
     "text": [
      "History\n",
      "English\n"
     ]
    }
   ],
   "source": [
    "# Shorter ways to query\n",
    "print(s[3])\n",
    "print(s[\"Molly\"])"
   ]
  },
  {
   "cell_type": "code",
   "execution_count": 19,
   "id": "de90bd17",
   "metadata": {},
   "outputs": [
    {
     "data": {
      "text/plain": [
       "'Physics'"
      ]
     },
     "execution_count": 19,
     "metadata": {},
     "output_type": "execute_result"
    }
   ],
   "source": [
    "# Example\n",
    "classCode = {\n",
    "    99: \"Physics\",\n",
    "    100: \"Math\",\n",
    "    101: \"Science\"\n",
    "}\n",
    "s = pd.Series(classCode)\n",
    "\n",
    "# Has to use iloc or loc\n",
    "s.iloc[0]"
   ]
  },
  {
   "cell_type": "code",
   "execution_count": 20,
   "id": "e546c3a4",
   "metadata": {},
   "outputs": [],
   "source": [
    "# Create series of random numbers\n",
    "numbers = pd.Series(np.random.randint(0, 1000, 10000))"
   ]
  },
  {
   "cell_type": "code",
   "execution_count": 21,
   "id": "48ae9a64",
   "metadata": {},
   "outputs": [
    {
     "data": {
      "text/plain": [
       "0    791\n",
       "1    161\n",
       "2    301\n",
       "3    643\n",
       "4    907\n",
       "dtype: int32"
      ]
     },
     "execution_count": 21,
     "metadata": {},
     "output_type": "execute_result"
    }
   ],
   "source": [
    "# Get the first 5 items\n",
    "numbers.head()"
   ]
  },
  {
   "cell_type": "markdown",
   "id": "42e8a63b",
   "metadata": {},
   "source": [
    "### Compare time to execute a loop vs numpy"
   ]
  },
  {
   "cell_type": "code",
   "execution_count": 22,
   "id": "640dec6b",
   "metadata": {},
   "outputs": [
    {
     "name": "stderr",
     "output_type": "stream",
     "text": [
      "UsageError: Line magic function `%%timeit` not found.\n"
     ]
    }
   ],
   "source": [
    "# Loop\n",
    "%%timeit -n 100\n",
    "total = 0\n",
    "for number in numbers:\n",
    "    total += number\n",
    "    \n",
    "total/len(numbers)"
   ]
  },
  {
   "cell_type": "code",
   "execution_count": 23,
   "id": "16dac741",
   "metadata": {},
   "outputs": [
    {
     "name": "stderr",
     "output_type": "stream",
     "text": [
      "UsageError: Line magic function `%%timeit` not found.\n"
     ]
    }
   ],
   "source": [
    "# Numpy\n",
    "%%timeit -n 100\n",
    "total = np.sum(numbers)\n",
    "total/len(numbers)"
   ]
  },
  {
   "cell_type": "code",
   "execution_count": 24,
   "id": "bb5a9831",
   "metadata": {},
   "outputs": [
    {
     "data": {
      "text/plain": [
       "0    793\n",
       "1    163\n",
       "2    303\n",
       "3    645\n",
       "4    909\n",
       "dtype: int32"
      ]
     },
     "execution_count": 24,
     "metadata": {},
     "output_type": "execute_result"
    }
   ],
   "source": [
    "# Add directly\n",
    "numbers += 2\n",
    "numbers.head()"
   ]
  },
  {
   "cell_type": "code",
   "execution_count": 27,
   "id": "a62f4593",
   "metadata": {
    "scrolled": true
   },
   "outputs": [
    {
     "data": {
      "text/plain": [
       "0    795\n",
       "1    165\n",
       "2    305\n",
       "3    647\n",
       "4    911\n",
       "dtype: int32"
      ]
     },
     "execution_count": 27,
     "metadata": {},
     "output_type": "execute_result"
    }
   ],
   "source": [
    "# Iterate through series\n",
    "for label, value in numbers.iteritems():\n",
    "    numbers.loc[label] = value + 2\n",
    "    \n",
    "numbers.head()"
   ]
  },
  {
   "cell_type": "markdown",
   "id": "afe8ecfd",
   "metadata": {},
   "source": [
    "### Change  value by index or add new value"
   ]
  },
  {
   "cell_type": "code",
   "execution_count": 28,
   "id": "5bd64212",
   "metadata": {},
   "outputs": [
    {
     "data": {
      "text/plain": [
       "0        1\n",
       "1        2\n",
       "2        3\n",
       "3        4\n",
       "Hello    5\n",
       "dtype: int64"
      ]
     },
     "execution_count": 28,
     "metadata": {},
     "output_type": "execute_result"
    }
   ],
   "source": [
    "s = pd.Series([1, 2, 3, 4])\n",
    "s.loc[\"Hello\"] = 5\n",
    "s"
   ]
  },
  {
   "cell_type": "markdown",
   "id": "5dd86d69",
   "metadata": {},
   "source": [
    "### Series with duplicated index"
   ]
  },
  {
   "cell_type": "code",
   "execution_count": 30,
   "id": "c9563023",
   "metadata": {},
   "outputs": [
    {
     "data": {
      "text/plain": [
       "Alice      Physics\n",
       "Jack     Chemistry\n",
       "Molly      English\n",
       "Sam        History\n",
       "dtype: object"
      ]
     },
     "execution_count": 30,
     "metadata": {},
     "output_type": "execute_result"
    }
   ],
   "source": [
    "# Create series 1\n",
    "class1 = pd.Series({\n",
    "    \"Alice\": \"Physics\",\n",
    "    \"Jack\": \"Chemistry\",\n",
    "    \"Molly\": \"English\",\n",
    "    \"Sam\": \"History\"\n",
    "})\n",
    "class1"
   ]
  },
  {
   "cell_type": "code",
   "execution_count": 31,
   "id": "b59f6551",
   "metadata": {},
   "outputs": [
    {
     "data": {
      "text/plain": [
       "Son    Tran\n",
       "Son     Hai\n",
       "dtype: object"
      ]
     },
     "execution_count": 31,
     "metadata": {},
     "output_type": "execute_result"
    }
   ],
   "source": [
    "# Create series 2\n",
    "class2 = pd.Series([\"Tran\", \"Hai\"], index = [\"Son\", \"Son\"])\n",
    "class2"
   ]
  },
  {
   "cell_type": "code",
   "execution_count": 32,
   "id": "a2f0c954",
   "metadata": {},
   "outputs": [
    {
     "data": {
      "text/plain": [
       "Alice      Physics\n",
       "Jack     Chemistry\n",
       "Molly      English\n",
       "Sam        History\n",
       "Son           Tran\n",
       "Son            Hai\n",
       "dtype: object"
      ]
     },
     "execution_count": 32,
     "metadata": {},
     "output_type": "execute_result"
    }
   ],
   "source": [
    "# Merge 2 series 1 & 2\n",
    "all_classes = class1.append(class2)\n",
    "all_classes"
   ]
  },
  {
   "cell_type": "code",
   "execution_count": 33,
   "id": "2aa76c62",
   "metadata": {},
   "outputs": [
    {
     "data": {
      "text/plain": [
       "Son    Tran\n",
       "Son     Hai\n",
       "dtype: object"
      ]
     },
     "execution_count": 33,
     "metadata": {},
     "output_type": "execute_result"
    }
   ],
   "source": [
    "# Try to query series with duplicated index\n",
    "all_classes.loc[\"Son\"]"
   ]
  },
  {
   "cell_type": "markdown",
   "id": "62ff0db3",
   "metadata": {},
   "source": []
  }
 ],
 "metadata": {
  "kernelspec": {
   "display_name": "Python 3",
   "language": "python",
   "name": "python3"
  },
  "language_info": {
   "codemirror_mode": {
    "name": "ipython",
    "version": 3
   },
   "file_extension": ".py",
   "mimetype": "text/x-python",
   "name": "python",
   "nbconvert_exporter": "python",
   "pygments_lexer": "ipython3",
   "version": "3.8.10"
  }
 },
 "nbformat": 4,
 "nbformat_minor": 5
}
